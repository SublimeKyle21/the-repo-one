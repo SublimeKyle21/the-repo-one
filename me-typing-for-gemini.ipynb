{
  "nbformat": 4,
  "nbformat_minor": 0,
  "metadata": {
    "colab": {
      "provenance": [],
      "gpuType": "T4",
      "authorship_tag": "ABX9TyPpDS7eovxypTViSzBj/9vw",
      "include_colab_link": true
    },
    "kernelspec": {
      "name": "python3",
      "display_name": "Python 3"
    },
    "language_info": {
      "name": "python"
    },
    "accelerator": "GPU"
  },
  "cells": [
    {
      "cell_type": "markdown",
      "metadata": {
        "id": "view-in-github",
        "colab_type": "text"
      },
      "source": [
        "<a href=\"https://colab.research.google.com/github/SublimeKyle21/the-repo-one/blob/main/me-typing-for-gemini.ipynb\" target=\"_parent\"><img src=\"https://colab.research.google.com/assets/colab-badge.svg\" alt=\"Open In Colab\"/></a>"
      ]
    },
    {
      "cell_type": "code",
      "source": [
        "!pip install -q gradio diffusers transformers accelerate"
      ],
      "metadata": {
        "id": "wVrGknY8odVS"
      },
      "execution_count": null,
      "outputs": []
    },
    {
      "cell_type": "code",
      "source": [
        "import gradio as gr\n",
        "from diffusers import StableDiffusionPipeline, DPMSolverMultistepScheduler\n",
        "import torch"
      ],
      "metadata": {
        "id": "OPoDC0vMUbkX"
      },
      "execution_count": null,
      "outputs": []
    },
    {
      "cell_type": "code",
      "source": [
        "def generate_image(prompt, model_id, steps, guidance_scale, seed):\n",
        "    if model_id == \"stabilityai/stable-diffusion-2-1\":\n",
        "        pipe = StableDiffusionPipeline.from_pretrained(model_id, torch_dtype=torch.float16)\n",
        "        pipe.scheduler = DPMSolverMultistepScheduler.from_config(pipe.scheduler.config)\n",
        "    else:\n",
        "        pipe = StableDiffusionPipeline.from_pretrained(model_id, torch_dtype=torch.float16)\n",
        "\n",
        "    if torch.cuda.is.available():\n",
        "        pipe = pipe.to(\"cuda\")\n",
        "\n",
        "    generator = torch.Generator(\"cuda\").manual_seed(seed) if seed else None\n",
        "\n",
        "    image = pipe(prompt, num_inference_steps=steps, guidance_scale=guidance_scale, generator=generator).images[0]\n",
        "\n",
        "    return image"
      ],
      "metadata": {
        "id": "YDZXfdowVswD"
      },
      "execution_count": null,
      "outputs": []
    },
    {
      "cell_type": "code",
      "source": [
        "model_options = [\n",
        "    \"stabilityai/stable-diffusion-2-1\",\n",
        "    \"runwayml/stable-diffusion-v1-5\",\n",
        "]\n",
        "\n",
        "iface = gr.Interface(\n",
        "    fn=generate_image,\n",
        "    inputs=[\n",
        "        gr.Textbox(lines=2, placeholder=\"whatchyou want fool!?\", label=\"Prompt\"),\n",
        "        gr.Dropdown(model_options, label=\"Model\", value=model_options[0]),\n",
        "        gr.Slider(minimum=10, maximum=80, step=5, value=10, Label=\"Inference Steps\"),\n",
        "        gr.Slider(minimum=1, maximum=20, step=1, value=1, label=\"Guidance Scale\"),\n",
        "        gr.Number(minimum=0, maximum=999999,label=\"Seed\", value=-1)\n",
        "    ],\n",
        "    outputs=gr.Image(type=\"pil\"),\n",
        "    title=\"New_Space_for_Notes\",\n",
        "    description=\"dot to find your own benchmark dot with any models dot (or something like that, idk what i'm doing, just trying s$#@ out, like i thought we were supposed to be doing, but im probably wrong, i usually am, is it hot in here? eehhhhh...)\",\n",
        ")"
      ],
      "metadata": {
        "id": "lqcdgWECZ0lm"
      },
      "execution_count": null,
      "outputs": []
    },
    {
      "cell_type": "code",
      "source": [
        "iface.launch(share=True, debug=True)"
      ],
      "metadata": {
        "id": "ErZQOPMwhU5K"
      },
      "execution_count": null,
      "outputs": []
    }
  ]
}